{
 "cells": [
  {
   "cell_type": "markdown",
   "metadata": {},
   "source": [
    "# UniProt Webcomponents Walk Through"
   ]
  },
  {
   "cell_type": "markdown",
   "metadata": {},
   "source": [
    "## 1 Basic Webpage\n",
    "As you will see there is nothing special to set up here, however if you want specific fonts then you will have to define your own CSS."
   ]
  },
  {
   "cell_type": "code",
   "execution_count": null,
   "metadata": {},
   "outputs": [],
   "source": [
    "html class='no-js' lang=''>\n",
    "    <head>\n",
    "        <meta charset='utf-8'>\n",
    "        <meta http-equiv='x-ua-compatible' content='ie=edge'>\n",
    "        <title>protvista-manager-demo</title>\n",
    "        <meta name='description' content=''>\n",
    "        <meta name='viewport' content='width=device-width, initial-scale=1'>\n",
    "\n",
    "        <link rel='apple-touch-icon' href='apple-touch-icon.png'>\n",
    "        <!-- Place favicon.ico in the root directory -->\n",
    "\n",
    "    </head>\n",
    "    <body>\n",
    "    </body>\n",
    "</html>"
   ]
  },
  {
   "cell_type": "markdown",
   "metadata": {},
   "source": [
    "## 2 Adding javascripts that you want to use\n",
    "1. Currently due to the lack of browser support you need to add the _polyfill.min.js_ by default\n",
    "2. The webcomponents along with _custom-elements-es5-adapter.js_ and _d3.v4.min.js_ are essential to get EBI webcomponents to work correctly.\n",
    "3. For example four protvista webcomponents scripts are loaded. _protvista-track_ can be loaded independently without the other script.\n",
    "4. Links to the scripts are hosted by _https://cdn.jsdelivr.net/npm_"
   ]
  },
  {
   "cell_type": "code",
   "execution_count": null,
   "metadata": {},
   "outputs": [],
   "source": [
    "<script src='https://d3js.org/d3.v4.min.js' charset='utf-8' defer></script>\n",
    "\n",
    "      <!-- Required for IE11 -->\n",
    "      <script src='https://cdn.jsdelivr.net/npm/babel-polyfill/dist/polyfill.min.js'></script>\n",
    "      <!-- Web component polyfill (only loads what it needs) -->\n",
    "      <script src='https://cdn.jsdelivr.net/npm/@webcomponents/webcomponentsjs/webcomponents-lite.js' charset='utf-8'></script>\n",
    "      <!-- Required to polyfill modern browsers as code is ES5 for IE... -->\n",
    "      <script src='https://cdn.jsdelivr.net/npm/@webcomponents/webcomponentsjs/custom-elements-es5-adapter.js' charset='utf-8'></script>\n",
    "\n",
    "      <script src='https://cdn.jsdelivr.net/npm/protvista-navigation@latest/dist/protvista-navigation.js' charset='utf-8' defer></script>\n",
    "      <script src='https://cdn.jsdelivr.net/npm/protvista-zoomable@latest/dist/protvista-zoomable.js' charset='utf-8' defer></script>\n",
    "      <script src='https://cdn.jsdelivr.net/npm/protvista-tooltip/dist/protvista-tooltip.js' charset='utf-8' defer></script>\n",
    "      <script src='https://cdn.jsdelivr.net/npm/protvista-track@latest/dist/protvista-track.js' charset='utf-8' defer></script>\n",
    " "
   ]
  },
  {
   "cell_type": "markdown",
   "metadata": {},
   "source": [
    "## 3 Adding adapters and data\n",
    "1. Add a _protvista-track_ tag\n",
    "2. Within the track tag add an adapter like _protvista-feature-adapter_\n",
    "3. The define a _<data-loader>_ with a <source>"
   ]
  },
  {
   "cell_type": "code",
   "execution_count": null,
   "metadata": {},
   "outputs": [],
   "source": [
    "<protvista-track id='track1' length='461' displaystart='1' displayend='461'  highlightstart='54' highlightend='85' layout='non-overlapping'>\n",
    "          <protvista-feature-adapter id='adapter1'>\n",
    "            <data-loader>\n",
    "              <source src='https://www.ebi.ac.uk/proteins/api/features/P00740?categories=PTM'/>\n",
    "            </data-loader>\n",
    "          </protvista-feature-adapter>\n",
    "        </protvista-track>"
   ]
  },
  {
   "cell_type": "markdown",
   "metadata": {},
   "source": [
    "Add additional webcomponents for more functionality or different track types by looking at the README.md files in the [ebi-webcomponents github](https://github.com/ebi-webcomponents)"
   ]
  },
  {
   "cell_type": "markdown",
   "metadata": {},
   "source": [
    "## 4 How to test in Jupyter\n",
    "\n",
    "One complication is that you cannot use scripts directly in Jupyter. To get around this limitation you have to put the entire html code in an iframe and __remove all double quotes__ with the html code."
   ]
  },
  {
   "cell_type": "code",
   "execution_count": null,
   "metadata": {},
   "outputs": [],
   "source": [
    "%%HTML\n",
    "<iframe id='basic-track', height=600, width=1000 srcdoc=\"\n",
    "<!-- HTML code with no double quotes -->\n",
    "\"></iframe>"
   ]
  },
  {
   "cell_type": "markdown",
   "metadata": {},
   "source": [
    "## 4 Basic example"
   ]
  },
  {
   "cell_type": "code",
   "execution_count": 3,
   "metadata": {},
   "outputs": [
    {
     "data": {
      "text/html": [
       "<iframe id='basic-track', height=600, width=1000 srcdoc=\"\n",
       "<!doctype html>\n",
       "<html class='no-js' lang=''>\n",
       "    <head>\n",
       "        <meta charset='utf-8'>\n",
       "        <meta http-equiv='x-ua-compatible' content='ie=edge'>\n",
       "        <title>protvista-manager-demo</title>\n",
       "        <meta name='description' content=''>\n",
       "        <meta name='viewport' content='width=device-width, initial-scale=1'>\n",
       "\n",
       "        <link rel='apple-touch-icon' href='apple-touch-icon.png'>\n",
       "        <!-- Place favicon.ico in the root directory -->\n",
       "\n",
       "    </head>\n",
       "    <body>\n",
       "    \n",
       "      <script src='https://d3js.org/d3.v4.min.js' charset='utf-8' defer></script>\n",
       "\n",
       "      <!-- Required for IE11 -->\n",
       "      <script src='https://cdn.jsdelivr.net/npm/babel-polyfill/dist/polyfill.min.js'></script>\n",
       "      <!-- Web component polyfill (only loads what it needs) -->\n",
       "      <script src='https://cdn.jsdelivr.net/npm/@webcomponents/webcomponentsjs/webcomponents-lite.js' charset='utf-8'></script>\n",
       "      <!-- Required to polyfill modern browsers as code is ES5 for IE... -->\n",
       "      <script src='https://cdn.jsdelivr.net/npm/@webcomponents/webcomponentsjs/custom-elements-es5-adapter.js' charset='utf-8'></script>\n",
       "\n",
       "      <script src='https://cdn.jsdelivr.net/npm/protvista-navigation@latest/dist/protvista-navigation.js' charset='utf-8' defer></script>\n",
       "      <script src='https://cdn.jsdelivr.net/npm/protvista-zoomable@latest/dist/protvista-zoomable.js' charset='utf-8' defer></script>\n",
       "      <script src='https://cdn.jsdelivr.net/npm/protvista-tooltip/dist/protvista-tooltip.js' charset='utf-8' defer></script>\n",
       "      <script src='https://cdn.jsdelivr.net/npm/protvista-track@latest/dist/protvista-track.js' charset='utf-8' defer></script>\n",
       "      <script src='https://cdn.jsdelivr.net/npm/protvista-interpro-track@latest/dist/protvista-interpro-track.js' charset='utf-8' defer></script>\n",
       "      <script src='https://cdn.jsdelivr.net/npm/protvista-sequence@latest/dist/protvista-sequence.js' charset='utf-8' defer></script>\n",
       "      <script src='https://cdn.jsdelivr.net/npm/protvista-variation@latest/dist/protvista-variation.js' charset='utf-8' defer></script>  \n",
       "     <script src='https://cdn.jsdelivr.net/npm/protvista-variation-filter@latest/dist/protvista-variation-filter.js' charset='utf-8' defer></script>\n",
       "      <script src='https://cdn.jsdelivr.net/npm/data-loader/dist/index.js' charset='utf-8' defer></script>\n",
       "      <script src='https://cdn.jsdelivr.net/npm/uniprot-entry-data-adapter/dist/UniProtEntryDataAdapter.js' charset='utf-8' defer></script>\n",
       "      <script src='https://cdn.jsdelivr.net/npm/protvista-feature-adapter/dist/ProtVistaFeatureAdapter.js' charset='utf-8' defer></script>\n",
       "      <script src='https://cdn.jsdelivr.net/npm/protvista-manager@latest/dist/protvista-manager.js' charset='utf-8' defer></script>\n",
       "   \n",
       "    \n",
       "      <protvista-manager attributes='length displaystart displayend highlightstart highlightend variantfilters' id='example'>\n",
       "        <protvista-navigation length='461' displaystart='1' displayend='461' highlightStart='54' highlightEnd='85'></protvista-navigation>\n",
       "   \n",
       "    <protvista-track id='track1' length='461' displaystart='1' displayend='461'  highlightstart='54' highlightend='85' layout='non-overlapping'>\n",
       "          <protvista-feature-adapter id='adapter1'>\n",
       "            <data-loader>\n",
       "              <source src='https://www.ebi.ac.uk/proteins/api/features/P00740?categories=PTM'/>\n",
       "            </data-loader>\n",
       "          </protvista-feature-adapter>\n",
       "        </protvista-track>\n",
       "        <protvista-track id= 'track2' length='461' displaystart='1' displayend='461' highlightstart='54' highlightend='85' layout='non-overlapping'>\n",
       "        <protvista-feature-adapter id='adapter2'>\n",
       "        <data-loader>\n",
       "              <source src='https://www.ebi.ac.uk/proteins/api/features/P00740?categories=STRUCTURAL' />\n",
       "            </data-loader>\n",
       "          </protvista-feature-adapter>\n",
       "        </protvista-track>\n",
       "        <protvista-interpro-track id='track3' length='461' displaystart='1' displayend='461' highlightstart='54' highlightend='85'></protvista-interpro-track>\n",
       "   \n",
       "    <protvista-variation filters='disease' displaystart='1' displayend='461' length='462' highlightstart='54' highlightend='85'>\n",
       "            <data-loader>\n",
       "                <source src='https://www.ebi.ac.uk/proteins/api/variation/P00740' />\n",
       "            </data-loader>\n",
       "        </protvista-variation>\n",
       "    <protvista-variation-filter></protvista-variation-filter>\n",
       "        \n",
       "   \n",
       "    </protvista-manager>\n",
       "\n",
       "    \n",
       "    </body>\n",
       "</html>\n",
       "\"></iframe>"
      ],
      "text/plain": [
       "<IPython.core.display.HTML object>"
      ]
     },
     "metadata": {},
     "output_type": "display_data"
    }
   ],
   "source": [
    "%%HTML\n",
    "<iframe id='basic-track', height=600, width=1000 srcdoc=\"\n",
    "<!doctype html>\n",
    "<html class='no-js' lang=''>\n",
    "    <head>\n",
    "        <meta charset='utf-8'>\n",
    "        <meta http-equiv='x-ua-compatible' content='ie=edge'>\n",
    "        <title>protvista-manager-demo</title>\n",
    "        <meta name='description' content=''>\n",
    "        <meta name='viewport' content='width=device-width, initial-scale=1'>\n",
    "\n",
    "        <link rel='apple-touch-icon' href='apple-touch-icon.png'>\n",
    "        <!-- Place favicon.ico in the root directory -->\n",
    "\n",
    "    </head>\n",
    "    <body>\n",
    "    \n",
    "      <script src='https://d3js.org/d3.v4.min.js' charset='utf-8' defer></script>\n",
    "\n",
    "      <!-- Required for IE11 -->\n",
    "      <script src='https://cdn.jsdelivr.net/npm/babel-polyfill/dist/polyfill.min.js'></script>\n",
    "      <!-- Web component polyfill (only loads what it needs) -->\n",
    "      <script src='https://cdn.jsdelivr.net/npm/@webcomponents/webcomponentsjs/webcomponents-lite.js' charset='utf-8'></script>\n",
    "      <!-- Required to polyfill modern browsers as code is ES5 for IE... -->\n",
    "      <script src='https://cdn.jsdelivr.net/npm/@webcomponents/webcomponentsjs/custom-elements-es5-adapter.js' charset='utf-8'></script>\n",
    "\n",
    "      <script src='https://cdn.jsdelivr.net/npm/protvista-navigation@latest/dist/protvista-navigation.js' charset='utf-8' defer></script>\n",
    "      <script src='https://cdn.jsdelivr.net/npm/protvista-zoomable@latest/dist/protvista-zoomable.js' charset='utf-8' defer></script>\n",
    "      <script src='https://cdn.jsdelivr.net/npm/protvista-tooltip/dist/protvista-tooltip.js' charset='utf-8' defer></script>\n",
    "      <script src='https://cdn.jsdelivr.net/npm/protvista-track@latest/dist/protvista-track.js' charset='utf-8' defer></script>\n",
    "      <script src='https://cdn.jsdelivr.net/npm/protvista-interpro-track@latest/dist/protvista-interpro-track.js' charset='utf-8' defer></script>\n",
    "      <script src='https://cdn.jsdelivr.net/npm/protvista-sequence@latest/dist/protvista-sequence.js' charset='utf-8' defer></script>\n",
    "      <script src='https://cdn.jsdelivr.net/npm/protvista-variation@latest/dist/protvista-variation.js' charset='utf-8' defer></script>  \n",
    "     <script src='https://cdn.jsdelivr.net/npm/protvista-variation-filter@latest/dist/protvista-variation-filter.js' charset='utf-8' defer></script>\n",
    "      <script src='https://cdn.jsdelivr.net/npm/data-loader/dist/index.js' charset='utf-8' defer></script>\n",
    "      <script src='https://cdn.jsdelivr.net/npm/uniprot-entry-data-adapter/dist/UniProtEntryDataAdapter.js' charset='utf-8' defer></script>\n",
    "      <script src='https://cdn.jsdelivr.net/npm/protvista-feature-adapter/dist/ProtVistaFeatureAdapter.js' charset='utf-8' defer></script>\n",
    "      <script src='https://cdn.jsdelivr.net/npm/protvista-manager@latest/dist/protvista-manager.js' charset='utf-8' defer></script>\n",
    "   \n",
    "    \n",
    "      <protvista-manager attributes='length displaystart displayend highlightstart highlightend variantfilters' id='example'>\n",
    "        <protvista-navigation length='461' displaystart='1' displayend='461' highlightStart='54' highlightEnd='85'></protvista-navigation>\n",
    "   \n",
    "    <protvista-track id='track1' length='461' displaystart='1' displayend='461'  highlightstart='54' highlightend='85' layout='non-overlapping'>\n",
    "          <protvista-feature-adapter id='adapter1'>\n",
    "            <data-loader>\n",
    "              <source src='https://www.ebi.ac.uk/proteins/api/features/P00740?categories=PTM'/>\n",
    "            </data-loader>\n",
    "          </protvista-feature-adapter>\n",
    "        </protvista-track>\n",
    "        <protvista-track id= 'track2' length='461' displaystart='1' displayend='461' highlightstart='54' highlightend='85' layout='non-overlapping'>\n",
    "        <protvista-feature-adapter id='adapter2'>\n",
    "        <data-loader>\n",
    "              <source src='https://www.ebi.ac.uk/proteins/api/features/P00740?categories=STRUCTURAL' />\n",
    "            </data-loader>\n",
    "          </protvista-feature-adapter>\n",
    "        </protvista-track>\n",
    "        <protvista-interpro-track id='track3' length='461' displaystart='1' displayend='461' highlightstart='54' highlightend='85'></protvista-interpro-track>\n",
    "   \n",
    "    <protvista-variation filters='disease' displaystart='1' displayend='461' length='462' highlightstart='54' highlightend='85'>\n",
    "            <data-loader>\n",
    "                <source src='https://www.ebi.ac.uk/proteins/api/variation/P00740' />\n",
    "            </data-loader>\n",
    "        </protvista-variation>\n",
    "    <protvista-variation-filter></protvista-variation-filter>\n",
    "        \n",
    "   \n",
    "    </protvista-manager>\n",
    "\n",
    "    \n",
    "    </body>\n",
    "</html>\n",
    "\"></iframe>"
   ]
  }
 ],
 "metadata": {
  "kernelspec": {
   "display_name": "Python 3",
   "language": "python",
   "name": "python3"
  },
  "language_info": {
   "codemirror_mode": {
    "name": "ipython",
    "version": 3
   },
   "file_extension": ".py",
   "mimetype": "text/x-python",
   "name": "python",
   "nbconvert_exporter": "python",
   "pygments_lexer": "ipython3",
   "version": "3.6.2"
  }
 },
 "nbformat": 4,
 "nbformat_minor": 2
}
